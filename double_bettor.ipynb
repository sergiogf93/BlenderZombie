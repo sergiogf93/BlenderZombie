{
  "nbformat": 4,
  "nbformat_minor": 0,
  "metadata": {
    "colab": {
      "name": "Untitled4.ipynb",
      "version": "0.3.2",
      "provenance": [],
      "include_colab_link": true
    },
    "kernelspec": {
      "name": "python2",
      "display_name": "Python 2"
    }
  },
  "cells": [
    {
      "cell_type": "markdown",
      "metadata": {
        "id": "view-in-github",
        "colab_type": "text"
      },
      "source": [
        "<a href=\"https://colab.research.google.com/github/sergiogf93/BlenderZombie/blob/master/double_bettor.ipynb\" target=\"_parent\"><img src=\"https://colab.research.google.com/assets/colab-badge.svg\" alt=\"Open In Colab\"/></a>"
      ]
    },
    {
      "metadata": {
        "id": "r6F4oo5M970u",
        "colab_type": "text"
      },
      "cell_type": "markdown",
      "source": [
        "A més de la coneguda llibreria random, importem matplotlib.\n",
        "\n",
        "Aquesta llibreria és la més utilitzada per produir gràfiques, histogrames, etc"
      ]
    },
    {
      "metadata": {
        "id": "5WeQqIgI97Ir",
        "colab_type": "code",
        "colab": {}
      },
      "cell_type": "code",
      "source": [
        "import random\n",
        "import matplotlib\n",
        "import matplotlib.pyplot as plt"
      ],
      "execution_count": 0,
      "outputs": []
    },
    {
      "metadata": {
        "id": "yQaT3zgr-ZK2",
        "colab_type": "text"
      },
      "cell_type": "markdown",
      "source": [
        "En aquest script recuperem la funció prèvia *rollDice* i definim un nou bettor *doubler_bettor* que canvia la quantitat apostada depenent del resultat de l'aposta anterior. També fa un plot amb l'evolució de les apostes."
      ]
    },
    {
      "metadata": {
        "id": "12iiLJNi-Pl-",
        "colab_type": "code",
        "colab": {}
      },
      "cell_type": "code",
      "source": [
        "def rollDice():\n",
        "    roll = random.randint(1,100)\n",
        "\n",
        "    if roll == 100:\n",
        "        return False\n",
        "    elif roll <= 50:\n",
        "        return False\n",
        "    elif 100 > roll >= 50:\n",
        "        return True\n",
        "\n",
        "\n",
        "def doubler_bettor(funds,initial_wager,wager_count):\n",
        "    global broke_count\n",
        "    value = funds\n",
        "    wager = initial_wager\n",
        "    wX = []\n",
        "    vY = []\n",
        "    currentWager = 1\n",
        "\n",
        "    # since we'll be betting based on previous bet outcome #\n",
        "    previousWager = 'win'\n",
        "\n",
        "    # since we'll be doubling #\n",
        "    previousWagerAmount = initial_wager\n",
        "\n",
        "    '''\n",
        "    immediately with these comments, and our previous discussion of how previous outcomes\n",
        "    do not affect future outcome possibilities, you should realize that this betting method\n",
        "    offers nothing more than a quicker realization of losses or gains.\n",
        "\n",
        "    Another way to visualize this quicker realization is actually an increase in risk.\n",
        "    This bettor will experience extremely unpredictable volatility most likely. \n",
        "    '''\n",
        "\n",
        "    while currentWager <= wager_count:\n",
        "        if previousWager == 'win':\n",
        "            ##print 'we won the last wager, yay!'\n",
        "            if rollDice():\n",
        "                value += wager\n",
        "                ##print value\n",
        "                wX.append(currentWager)\n",
        "                vY.append(value)\n",
        "            else:\n",
        "                value -= wager \n",
        "                previousWager = 'loss'\n",
        "                ##print value\n",
        "                previousWagerAmount = wager\n",
        "                wX.append(currentWager)\n",
        "                vY.append(value)\n",
        "                if value < 0:\n",
        "                    ##print 'went broke after',currentWager,'bets'\n",
        "                    broke_count += 1\n",
        "                    currentWager += 10000000000000000\n",
        "        elif previousWager == 'loss':\n",
        "            ##print 'we lost the last one, so we will be super smart & double up!'\n",
        "            if rollDice():\n",
        "                wager = previousWagerAmount * 2\n",
        "                ##print 'we won',wager\n",
        "                value += wager\n",
        "                ##print value\n",
        "                wager = initial_wager\n",
        "                previousWager = 'win'\n",
        "                wX.append(currentWager)\n",
        "                vY.append(value)\n",
        "            else:\n",
        "                wager = previousWagerAmount * 2\n",
        "                ##print 'we lost',wager\n",
        "                value -= wager\n",
        "                ##print value\n",
        "                previousWager = 'loss'\n",
        "                previousWagerAmount = wager\n",
        "                wX.append(currentWager)\n",
        "                vY.append(value)\n",
        "                if value < 0:\n",
        "                    ##print 'went broke after',currentWager,'bets'\n",
        "                    currentWager += 10000000000000000\n",
        "                    broke_count += 1\n",
        "\n",
        "        currentWager += 1\n",
        "\n",
        "    ##print value\n",
        "    plt.plot(wX,vY)\n"
      ],
      "execution_count": 0,
      "outputs": []
    },
    {
      "metadata": {
        "id": "oqAp79Dd_RdJ",
        "colab_type": "code",
        "colab": {}
      },
      "cell_type": "code",
      "source": [
        "xx = 0\n",
        "broke_count = 0\n",
        "\n",
        "while xx < 1000:             \n",
        "    doubler_bettor(10000,100,100)\n",
        "    xx+=1\n",
        "\n",
        "print 'death rate:',(broke_count/float(xx)) * 100\n",
        "print 'survival rate:',100 - ((broke_count/float(xx)) * 100)\n",
        "plt.axhline(0, color = 'r')\n",
        "plt.show()\n"
      ],
      "execution_count": 0,
      "outputs": []
    }
  ]
}